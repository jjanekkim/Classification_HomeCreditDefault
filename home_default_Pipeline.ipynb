{
 "cells": [
  {
   "cell_type": "markdown",
   "metadata": {},
   "source": [
    "# Import Dependency"
   ]
  },
  {
   "cell_type": "code",
   "execution_count": 2,
   "metadata": {},
   "outputs": [],
   "source": [
    "import home_default_package as hd"
   ]
  },
  {
   "cell_type": "markdown",
   "metadata": {},
   "source": [
    "# Data Acquisition"
   ]
  },
  {
   "cell_type": "code",
   "execution_count": 3,
   "metadata": {},
   "outputs": [],
   "source": [
    "path = r\"C:\\Users\\nene0\\Documents\\Datasets\\home-credit-default-risk\\application_train.csv\"\n",
    "bureau_path = r\"C:\\Users\\nene0\\OneDrive\\바탕 화면\\Python Learning\\DataScienceMod2_LFZ\\LoanDefault\\cleaned_bureau.csv\"\n",
    "credit_path = r\"C:\\Users\\nene0\\OneDrive\\바탕 화면\\Python Learning\\DataScienceMod2_LFZ\\LoanDefault\\cleaned_credit.csv\"\n",
    "instal_path = r\"C:\\Users\\nene0\\OneDrive\\바탕 화면\\Python Learning\\DataScienceMod2_LFZ\\LoanDefault\\cleaned_installment.csv\"\n",
    "cash_path = r\"C:\\Users\\nene0\\OneDrive\\바탕 화면\\Python Learning\\DataScienceMod2_LFZ\\LoanDefault\\cleaned_POS.csv\""
   ]
  },
  {
   "cell_type": "markdown",
   "metadata": {},
   "source": [
    "# Pipeline"
   ]
  },
  {
   "cell_type": "code",
   "execution_count": 4,
   "metadata": {},
   "outputs": [
    {
     "name": "stdout",
     "output_type": "stream",
     "text": [
      "Epoch 1/100\n",
      "32/32 [==============================] - 1s 9ms/step - loss: 0.6906 - auc: 0.5484 - val_loss: 0.6888 - val_auc: 0.5643\n",
      "Epoch 2/100\n",
      "32/32 [==============================] - 0s 3ms/step - loss: 0.6865 - auc: 0.5785 - val_loss: 0.6847 - val_auc: 0.5849\n",
      "Epoch 3/100\n",
      "32/32 [==============================] - 0s 3ms/step - loss: 0.6818 - auc: 0.5977 - val_loss: 0.6799 - val_auc: 0.6029\n",
      "Epoch 4/100\n",
      "32/32 [==============================] - 0s 3ms/step - loss: 0.6761 - auc: 0.6178 - val_loss: 0.6737 - val_auc: 0.6223\n",
      "Epoch 5/100\n",
      "32/32 [==============================] - 0s 3ms/step - loss: 0.6689 - auc: 0.6377 - val_loss: 0.6657 - val_auc: 0.6426\n",
      "Epoch 6/100\n",
      "32/32 [==============================] - 0s 3ms/step - loss: 0.6598 - auc: 0.6592 - val_loss: 0.6574 - val_auc: 0.6604\n",
      "Epoch 7/100\n",
      "32/32 [==============================] - 0s 3ms/step - loss: 0.6503 - auc: 0.6758 - val_loss: 0.6490 - val_auc: 0.6744\n",
      "Epoch 8/100\n",
      "32/32 [==============================] - 0s 3ms/step - loss: 0.6408 - auc: 0.6898 - val_loss: 0.6408 - val_auc: 0.6875\n",
      "Epoch 9/100\n",
      "32/32 [==============================] - 0s 3ms/step - loss: 0.6319 - auc: 0.7026 - val_loss: 0.6333 - val_auc: 0.6970\n",
      "Epoch 10/100\n",
      "32/32 [==============================] - 0s 2ms/step - loss: 0.6242 - auc: 0.7121 - val_loss: 0.6269 - val_auc: 0.7059\n",
      "Epoch 11/100\n",
      "32/32 [==============================] - 0s 3ms/step - loss: 0.6175 - auc: 0.7208 - val_loss: 0.6215 - val_auc: 0.7135\n",
      "Epoch 12/100\n",
      "32/32 [==============================] - 0s 3ms/step - loss: 0.6119 - auc: 0.7279 - val_loss: 0.6165 - val_auc: 0.7201\n",
      "Epoch 13/100\n",
      "32/32 [==============================] - 0s 3ms/step - loss: 0.6068 - auc: 0.7339 - val_loss: 0.6127 - val_auc: 0.7252\n",
      "Epoch 14/100\n",
      "32/32 [==============================] - 0s 3ms/step - loss: 0.6030 - auc: 0.7384 - val_loss: 0.6098 - val_auc: 0.7289\n",
      "Epoch 15/100\n",
      "32/32 [==============================] - 0s 3ms/step - loss: 0.5996 - auc: 0.7424 - val_loss: 0.6066 - val_auc: 0.7326\n",
      "Epoch 16/100\n",
      "32/32 [==============================] - 0s 3ms/step - loss: 0.5966 - auc: 0.7459 - val_loss: 0.6046 - val_auc: 0.7352\n",
      "Epoch 17/100\n",
      "32/32 [==============================] - 0s 3ms/step - loss: 0.5944 - auc: 0.7484 - val_loss: 0.6034 - val_auc: 0.7376\n",
      "Epoch 18/100\n",
      "32/32 [==============================] - 0s 3ms/step - loss: 0.5926 - auc: 0.7503 - val_loss: 0.6026 - val_auc: 0.7392\n",
      "Epoch 19/100\n",
      "32/32 [==============================] - 0s 3ms/step - loss: 0.5914 - auc: 0.7515 - val_loss: 0.6006 - val_auc: 0.7403\n",
      "Epoch 20/100\n",
      "32/32 [==============================] - 0s 3ms/step - loss: 0.5895 - auc: 0.7538 - val_loss: 0.5993 - val_auc: 0.7419\n",
      "Epoch 21/100\n",
      "32/32 [==============================] - 0s 3ms/step - loss: 0.5884 - auc: 0.7550 - val_loss: 0.5986 - val_auc: 0.7428\n",
      "Epoch 22/100\n",
      "32/32 [==============================] - 0s 3ms/step - loss: 0.5874 - auc: 0.7560 - val_loss: 0.5978 - val_auc: 0.7435\n",
      "Epoch 23/100\n",
      "32/32 [==============================] - 0s 3ms/step - loss: 0.5864 - auc: 0.7570 - val_loss: 0.5980 - val_auc: 0.7443\n",
      "Epoch 24/100\n",
      "32/32 [==============================] - 0s 3ms/step - loss: 0.5858 - auc: 0.7577 - val_loss: 0.5967 - val_auc: 0.7449\n",
      "Epoch 25/100\n",
      "32/32 [==============================] - 0s 3ms/step - loss: 0.5850 - auc: 0.7585 - val_loss: 0.5968 - val_auc: 0.7454\n",
      "Epoch 26/100\n",
      "32/32 [==============================] - 0s 3ms/step - loss: 0.5847 - auc: 0.7588 - val_loss: 0.5961 - val_auc: 0.7457\n",
      "Epoch 27/100\n",
      "32/32 [==============================] - 0s 3ms/step - loss: 0.5837 - auc: 0.7598 - val_loss: 0.5959 - val_auc: 0.7460\n",
      "Epoch 28/100\n",
      "32/32 [==============================] - 0s 3ms/step - loss: 0.5830 - auc: 0.7606 - val_loss: 0.5957 - val_auc: 0.7462\n",
      "Epoch 29/100\n",
      "32/32 [==============================] - 0s 3ms/step - loss: 0.5827 - auc: 0.7608 - val_loss: 0.5953 - val_auc: 0.7465\n",
      "Epoch 30/100\n",
      "32/32 [==============================] - 0s 3ms/step - loss: 0.5820 - auc: 0.7616 - val_loss: 0.5953 - val_auc: 0.7466\n",
      "Epoch 31/100\n",
      "32/32 [==============================] - 0s 3ms/step - loss: 0.5818 - auc: 0.7619 - val_loss: 0.5972 - val_auc: 0.7466\n",
      "Epoch 32/100\n",
      "32/32 [==============================] - 0s 3ms/step - loss: 0.5821 - auc: 0.7615 - val_loss: 0.5952 - val_auc: 0.7467\n",
      "Epoch 33/100\n",
      "32/32 [==============================] - 0s 3ms/step - loss: 0.5810 - auc: 0.7626 - val_loss: 0.5952 - val_auc: 0.7472\n",
      "Epoch 34/100\n",
      "32/32 [==============================] - 0s 3ms/step - loss: 0.5801 - auc: 0.7636 - val_loss: 0.5948 - val_auc: 0.7475\n",
      "Epoch 35/100\n",
      "32/32 [==============================] - 0s 3ms/step - loss: 0.5797 - auc: 0.7640 - val_loss: 0.5948 - val_auc: 0.7475\n",
      "Epoch 36/100\n",
      "32/32 [==============================] - 0s 3ms/step - loss: 0.5793 - auc: 0.7645 - val_loss: 0.5948 - val_auc: 0.7475\n",
      "Epoch 37/100\n",
      "32/32 [==============================] - 0s 3ms/step - loss: 0.5787 - auc: 0.7651 - val_loss: 0.5945 - val_auc: 0.7477\n",
      "Epoch 38/100\n",
      "32/32 [==============================] - 0s 3ms/step - loss: 0.5786 - auc: 0.7652 - val_loss: 0.5947 - val_auc: 0.7477\n",
      "Epoch 39/100\n",
      "32/32 [==============================] - 0s 3ms/step - loss: 0.5779 - auc: 0.7660 - val_loss: 0.5945 - val_auc: 0.7479\n",
      "Epoch 40/100\n",
      "32/32 [==============================] - 0s 3ms/step - loss: 0.5777 - auc: 0.7661 - val_loss: 0.5951 - val_auc: 0.7480\n",
      "Epoch 41/100\n",
      "32/32 [==============================] - 0s 3ms/step - loss: 0.5770 - auc: 0.7668 - val_loss: 0.5949 - val_auc: 0.7475\n",
      "Epoch 42/100\n",
      "32/32 [==============================] - 0s 3ms/step - loss: 0.5773 - auc: 0.7664 - val_loss: 0.5944 - val_auc: 0.7480\n",
      "Epoch 43/100\n",
      "32/32 [==============================] - 0s 2ms/step - loss: 0.5764 - auc: 0.7673 - val_loss: 0.5944 - val_auc: 0.7480\n",
      "Epoch 44/100\n",
      "32/32 [==============================] - 0s 3ms/step - loss: 0.5762 - auc: 0.7677 - val_loss: 0.5946 - val_auc: 0.7480\n",
      "Epoch 45/100\n",
      "32/32 [==============================] - 0s 3ms/step - loss: 0.5761 - auc: 0.7676 - val_loss: 0.5966 - val_auc: 0.7476\n",
      "Epoch 46/100\n",
      "32/32 [==============================] - 0s 3ms/step - loss: 0.5757 - auc: 0.7680 - val_loss: 0.5946 - val_auc: 0.7481\n",
      "Epoch 47/100\n",
      "32/32 [==============================] - 0s 3ms/step - loss: 0.5746 - auc: 0.7693 - val_loss: 0.5945 - val_auc: 0.7481\n",
      "Epoch 48/100\n",
      "32/32 [==============================] - 0s 3ms/step - loss: 0.5742 - auc: 0.7697 - val_loss: 0.5946 - val_auc: 0.7478\n",
      "Epoch 49/100\n",
      "32/32 [==============================] - 0s 3ms/step - loss: 0.5744 - auc: 0.7694 - val_loss: 0.5947 - val_auc: 0.7480\n",
      "Epoch 50/100\n",
      "32/32 [==============================] - 0s 3ms/step - loss: 0.5735 - auc: 0.7704 - val_loss: 0.5949 - val_auc: 0.7478\n",
      "Epoch 51/100\n",
      "32/32 [==============================] - 0s 3ms/step - loss: 0.5732 - auc: 0.7707 - val_loss: 0.5946 - val_auc: 0.7481\n",
      "Epoch 52/100\n",
      "32/32 [==============================] - 0s 3ms/step - loss: 0.5727 - auc: 0.7712 - val_loss: 0.5949 - val_auc: 0.7482\n",
      "Epoch 53/100\n",
      "32/32 [==============================] - 0s 3ms/step - loss: 0.5720 - auc: 0.7720 - val_loss: 0.5947 - val_auc: 0.7480\n",
      "311/311 [==============================] - 0s 694us/step\n"
     ]
    }
   ],
   "source": [
    "train = hd.read_file(path)\n",
    "bureau = hd.read_file(bureau_path)\n",
    "credit = hd.read_file(credit_path)\n",
    "instal = hd.read_file(instal_path)\n",
    "cash = hd.read_file(cash_path)\n",
    "\n",
    "train = hd.balance_class(train)\n",
    "train = hd.remove_outliers(train)\n",
    "train = hd.days_features(train)\n",
    "\n",
    "\n",
    "ext2_pred_ft = ['REGION_RATING_CLIENT_W_CITY','REGION_RATING_CLIENT','REGION_POPULATION_RELATIVE']\n",
    "ext2 = ['EXT_SOURCE_2']\n",
    "ext2_pred = hd.ext_source_knn(train, ext2_pred_ft, ext2)\n",
    "train = hd.fill_missing_external(train, 'EXT_SOURCE_2', ext2_pred)\n",
    "\n",
    "ext1_pred_ft = ['AGE', 'EXT_SOURCE_2']\n",
    "ext1 = ['EXT_SOURCE_1']\n",
    "ext1_pred = hd.ext_source_knn(train, ext1_pred_ft, ext1)\n",
    "train = hd.fill_missing_external(train, 'EXT_SOURCE_1', ext1_pred)\n",
    "\n",
    "ext3_pred_ft = ['AGE', 'EXT_SOURCE_2', 'EXT_SOURCE_1', 'DAYS_ID_PUBLISH']\n",
    "ext3 = ['EXT_SOURCE_3']\n",
    "ext3_pred = hd.ext_source_knn(train, ext3_pred_ft, ext3)\n",
    "train = hd.fill_missing_external(train, 'EXT_SOURCE_3', ext3_pred)\n",
    "\n",
    "train = hd.data_imputation(train)\n",
    "train = hd.drop_features(train)\n",
    "\n",
    "train = hd.merge_datasets(train, bureau, credit, instal, cash)\n",
    "train = hd.feature_engineering(train)\n",
    "\n",
    "scaled_train = hd.scale_data(train)\n",
    "encoded_train = hd.encode_data(train)\n",
    "final_train = hd.generate_final_data(scaled_train, encoded_train)\n",
    "\n",
    "x_train, x_test, y_train, y_test = hd.split_data(final_train, train)\n",
    "\n",
    "xgb = hd.XGBClassifier(random_state=0, eta=0.2)\n",
    "xgb_pred, xgb_pred_proba = hd.train_pred_model(x_train, y_train, x_test, xgb)\n",
    "\n",
    "ann_model = hd.train_ann(x_train, y_train)\n",
    "ann_pred = hd.predict_ann(x_test, ann_model)"
   ]
  },
  {
   "cell_type": "code",
   "execution_count": 5,
   "metadata": {},
   "outputs": [
    {
     "data": {
      "text/plain": [
       "array([1, 0, 1, ..., 0, 0, 1])"
      ]
     },
     "execution_count": 5,
     "metadata": {},
     "output_type": "execute_result"
    }
   ],
   "source": [
    "xgb_pred"
   ]
  },
  {
   "cell_type": "code",
   "execution_count": 6,
   "metadata": {},
   "outputs": [
    {
     "data": {
      "text/html": [
       "<div>\n",
       "<style scoped>\n",
       "    .dataframe tbody tr th:only-of-type {\n",
       "        vertical-align: middle;\n",
       "    }\n",
       "\n",
       "    .dataframe tbody tr th {\n",
       "        vertical-align: top;\n",
       "    }\n",
       "\n",
       "    .dataframe thead th {\n",
       "        text-align: right;\n",
       "    }\n",
       "</style>\n",
       "<table border=\"1\" class=\"dataframe\">\n",
       "  <thead>\n",
       "    <tr style=\"text-align: right;\">\n",
       "      <th></th>\n",
       "      <th>Precision</th>\n",
       "      <th>Recall</th>\n",
       "      <th>ROC_AUC</th>\n",
       "    </tr>\n",
       "  </thead>\n",
       "  <tbody>\n",
       "    <tr>\n",
       "      <th>0</th>\n",
       "      <td>0.6962</td>\n",
       "      <td>0.691702</td>\n",
       "      <td>0.69566</td>\n",
       "    </tr>\n",
       "  </tbody>\n",
       "</table>\n",
       "</div>"
      ],
      "text/plain": [
       "   Precision    Recall  ROC_AUC\n",
       "0     0.6962  0.691702  0.69566"
      ]
     },
     "execution_count": 6,
     "metadata": {},
     "output_type": "execute_result"
    }
   ],
   "source": [
    "hd.print_scores(y_test, xgb_pred)"
   ]
  },
  {
   "cell_type": "code",
   "execution_count": 7,
   "metadata": {},
   "outputs": [
    {
     "data": {
      "text/plain": [
       "array([[0.74011344],\n",
       "       [0.24031477],\n",
       "       [0.44202417],\n",
       "       ...,\n",
       "       [0.13756593],\n",
       "       [0.43956795],\n",
       "       [0.67043835]], dtype=float32)"
      ]
     },
     "execution_count": 7,
     "metadata": {},
     "output_type": "execute_result"
    }
   ],
   "source": [
    "ann_pred"
   ]
  }
 ],
 "metadata": {
  "kernelspec": {
   "display_name": "Python 3",
   "language": "python",
   "name": "python3"
  },
  "language_info": {
   "codemirror_mode": {
    "name": "ipython",
    "version": 3
   },
   "file_extension": ".py",
   "mimetype": "text/x-python",
   "name": "python",
   "nbconvert_exporter": "python",
   "pygments_lexer": "ipython3",
   "version": "3.11.3"
  }
 },
 "nbformat": 4,
 "nbformat_minor": 2
}
